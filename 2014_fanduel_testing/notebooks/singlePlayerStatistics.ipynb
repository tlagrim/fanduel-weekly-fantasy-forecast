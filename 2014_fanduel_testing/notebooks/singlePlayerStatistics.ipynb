{
 "cells": [
  {
   "cell_type": "markdown",
   "metadata": {},
   "source": [
    "# FanDuel 2014 Week 1 - 17 Statistical Analysis\n",
    "Testing \"fanduel2014week*.csv\""
   ]
  },
  {
   "cell_type": "code",
   "execution_count": 67,
   "metadata": {
    "collapsed": false
   },
   "outputs": [],
   "source": [
    "import pandas as pd"
   ]
  },
  {
   "cell_type": "markdown",
   "metadata": {},
   "source": [
    "for loop to populate all weeks in respective variables\n",
    "\n",
    "###IMPORTANT: variable automation is not working correctly."
   ]
  },
  {
   "cell_type": "code",
   "execution_count": 68,
   "metadata": {
    "collapsed": false,
    "scrolled": true
   },
   "outputs": [
    {
     "data": {
      "text/plain": [
       "'\\nnumberofweeks = 14\\ncounter = 1\\nwhile counter <= numberofweeks:\\n    weeknumber = str(counter)\\n    filename = \"../data/fanduel_data/fanduel2014week\"\\n    filename += weeknumber\\n    filename += \".csv\"\\n    # print (filename) \\n    \\n    weekname = \"wk\"\\n    weekname += weeknumber \\n    #str (weekname) = pd.read_csv(filename,delimiter=\";\")\\n    # print (weekname)\\n    #\"wk\"+=str(counter) = pd.read_csv(filename,delimiter=\";\")\\n    \\n    # weeknumber = pd.read_csv(filename,delimiter=\";\")\\n    # print (weeknumber, \" = \", filename, sep=\"\")\\n    counter += 1\\n    \\n#wk12.head()\\n\\n'"
      ]
     },
     "execution_count": 68,
     "metadata": {},
     "output_type": "execute_result"
    }
   ],
   "source": [
    "'''\n",
    "numberofweeks = 14\n",
    "counter = 1\n",
    "while counter <= numberofweeks:\n",
    "    weeknumber = str(counter)\n",
    "    filename = \"../data/fanduel_data/fanduel2014week\"\n",
    "    filename += weeknumber\n",
    "    filename += \".csv\"\n",
    "    # print (filename) \n",
    "    \n",
    "    weekname = \"wk\"\n",
    "    weekname += weeknumber \n",
    "    #str (weekname) = pd.read_csv(filename,delimiter=\";\")\n",
    "    # print (weekname)\n",
    "    #\"wk\"+=str(counter) = pd.read_csv(filename,delimiter=\";\")\n",
    "    \n",
    "    # weeknumber = pd.read_csv(filename,delimiter=\";\")\n",
    "    # print (weeknumber, \" = \", filename, sep=\"\")\n",
    "    counter += 1\n",
    "    \n",
    "#wk12.head()\n",
    "\n",
    "'''"
   ]
  },
  {
   "cell_type": "markdown",
   "metadata": {},
   "source": [
    "Hardcode weelky variables..."
   ]
  },
  {
   "cell_type": "code",
   "execution_count": 69,
   "metadata": {
    "collapsed": false,
    "scrolled": true
   },
   "outputs": [
    {
     "data": {
      "text/html": [
       "<div style=\"max-height:1000px;max-width:1500px;overflow:auto;\">\n",
       "<table border=\"1\" class=\"dataframe\">\n",
       "  <thead>\n",
       "    <tr style=\"text-align: right;\">\n",
       "      <th></th>\n",
       "      <th>Week</th>\n",
       "      <th>Year</th>\n",
       "      <th>GID</th>\n",
       "      <th>Name</th>\n",
       "      <th>Pos</th>\n",
       "      <th>Team</th>\n",
       "      <th>h/a</th>\n",
       "      <th>Oppt</th>\n",
       "      <th>FD points</th>\n",
       "      <th>FD salary</th>\n",
       "    </tr>\n",
       "  </thead>\n",
       "  <tbody>\n",
       "    <tr>\n",
       "      <th>0</th>\n",
       "      <td>15</td>\n",
       "      <td>2014</td>\n",
       "      <td>1151</td>\n",
       "      <td>Brees, Drew</td>\n",
       "      <td>QB</td>\n",
       "      <td>nor</td>\n",
       "      <td>a</td>\n",
       "      <td>chi</td>\n",
       "      <td>27.20</td>\n",
       "      <td>9200</td>\n",
       "    </tr>\n",
       "    <tr>\n",
       "      <th>1</th>\n",
       "      <td>15</td>\n",
       "      <td>2014</td>\n",
       "      <td>1301</td>\n",
       "      <td>Ryan, Matt</td>\n",
       "      <td>QB</td>\n",
       "      <td>atl</td>\n",
       "      <td>h</td>\n",
       "      <td>pit</td>\n",
       "      <td>22.10</td>\n",
       "      <td>7900</td>\n",
       "    </tr>\n",
       "    <tr>\n",
       "      <th>2</th>\n",
       "      <td>15</td>\n",
       "      <td>2014</td>\n",
       "      <td>1225</td>\n",
       "      <td>Manning, Eli</td>\n",
       "      <td>QB</td>\n",
       "      <td>nyg</td>\n",
       "      <td>h</td>\n",
       "      <td>was</td>\n",
       "      <td>22.00</td>\n",
       "      <td>7500</td>\n",
       "    </tr>\n",
       "    <tr>\n",
       "      <th>3</th>\n",
       "      <td>15</td>\n",
       "      <td>2014</td>\n",
       "      <td>1254</td>\n",
       "      <td>Smith, Alex</td>\n",
       "      <td>QB</td>\n",
       "      <td>kan</td>\n",
       "      <td>h</td>\n",
       "      <td>oak</td>\n",
       "      <td>21.58</td>\n",
       "      <td>7200</td>\n",
       "    </tr>\n",
       "    <tr>\n",
       "      <th>4</th>\n",
       "      <td>15</td>\n",
       "      <td>2014</td>\n",
       "      <td>1233</td>\n",
       "      <td>Romo, Tony</td>\n",
       "      <td>QB</td>\n",
       "      <td>dal</td>\n",
       "      <td>a</td>\n",
       "      <td>phi</td>\n",
       "      <td>20.50</td>\n",
       "      <td>8400</td>\n",
       "    </tr>\n",
       "  </tbody>\n",
       "</table>\n",
       "</div>"
      ],
      "text/plain": [
       "   Week  Year   GID          Name Pos Team h/a Oppt  FD points  FD salary\n",
       "0    15  2014  1151   Brees, Drew  QB  nor   a  chi      27.20       9200\n",
       "1    15  2014  1301    Ryan, Matt  QB  atl   h  pit      22.10       7900\n",
       "2    15  2014  1225  Manning, Eli  QB  nyg   h  was      22.00       7500\n",
       "3    15  2014  1254   Smith, Alex  QB  kan   h  oak      21.58       7200\n",
       "4    15  2014  1233    Romo, Tony  QB  dal   a  phi      20.50       8400"
      ]
     },
     "execution_count": 69,
     "metadata": {},
     "output_type": "execute_result"
    }
   ],
   "source": [
    "wk1 = pd.read_csv(\"../data/fanduel_data/fanduel2014week1.csv\",delimiter=\";\")\n",
    "wk2 = pd.read_csv(\"../data/fanduel_data/fanduel2014week2.csv\",delimiter=\";\")\n",
    "wk3 = pd.read_csv(\"../data/fanduel_data/fanduel2014week3.csv\",delimiter=\";\")\n",
    "wk4 = pd.read_csv(\"../data/fanduel_data/fanduel2014week4.csv\",delimiter=\";\")\n",
    "wk5 = pd.read_csv(\"../data/fanduel_data/fanduel2014week5.csv\",delimiter=\";\")\n",
    "wk6 = pd.read_csv(\"../data/fanduel_data/fanduel2014week6.csv\",delimiter=\";\")\n",
    "wk7 = pd.read_csv(\"../data/fanduel_data/fanduel2014week7.csv\",delimiter=\";\")\n",
    "wk8 = pd.read_csv(\"../data/fanduel_data/fanduel2014week8.csv\",delimiter=\";\")\n",
    "wk9 = pd.read_csv(\"../data/fanduel_data/fanduel2014week9.csv\",delimiter=\";\")\n",
    "wk10 = pd.read_csv(\"../data/fanduel_data/fanduel2014week10.csv\",delimiter=\";\")\n",
    "wk11 = pd.read_csv(\"../data/fanduel_data/fanduel2014week11.csv\",delimiter=\";\")\n",
    "wk12 = pd.read_csv(\"../data/fanduel_data/fanduel2014week12.csv\",delimiter=\";\")\n",
    "wk13 = pd.read_csv(\"../data/fanduel_data/fanduel2014week13.csv\",delimiter=\";\")\n",
    "wk14 = pd.read_csv(\"../data/fanduel_data/fanduel2014week14.csv\",delimiter=\";\")\n",
    "wk15 = pd.read_csv(\"../data/fanduel_data/fanduel2014week15.csv\",delimiter=\";\")\n",
    "wk16 = pd.read_csv(\"../data/fanduel_data/fanduel2014week16.csv\",delimiter=\";\")\n",
    "wk17 = pd.read_csv(\"../data/fanduel_data/fanduel2014week17.csv\",delimiter=\";\")\n",
    "\n",
    "wk15.head()"
   ]
  },
  {
   "cell_type": "code",
   "execution_count": 70,
   "metadata": {
    "collapsed": false
   },
   "outputs": [
    {
     "data": {
      "text/html": [
       "<div style=\"max-height:1000px;max-width:1500px;overflow:auto;\">\n",
       "<table border=\"1\" class=\"dataframe\">\n",
       "  <thead>\n",
       "    <tr style=\"text-align: right;\">\n",
       "      <th></th>\n",
       "      <th>Week</th>\n",
       "      <th>Year</th>\n",
       "      <th>GID</th>\n",
       "      <th>Name</th>\n",
       "      <th>Pos</th>\n",
       "      <th>Team</th>\n",
       "      <th>h/a</th>\n",
       "      <th>Oppt</th>\n",
       "      <th>FD points</th>\n",
       "      <th>FD salary</th>\n",
       "    </tr>\n",
       "  </thead>\n",
       "  <tbody>\n",
       "    <tr>\n",
       "      <th>0</th>\n",
       "      <td>17</td>\n",
       "      <td>2014</td>\n",
       "      <td>1426</td>\n",
       "      <td>Smith, Geno</td>\n",
       "      <td>QB</td>\n",
       "      <td>nyj</td>\n",
       "      <td>a</td>\n",
       "      <td>mia</td>\n",
       "      <td>26.12</td>\n",
       "      <td>6600</td>\n",
       "    </tr>\n",
       "    <tr>\n",
       "      <th>1</th>\n",
       "      <td>17</td>\n",
       "      <td>2014</td>\n",
       "      <td>1252</td>\n",
       "      <td>Rodgers, Aaron</td>\n",
       "      <td>QB</td>\n",
       "      <td>gnb</td>\n",
       "      <td>h</td>\n",
       "      <td>det</td>\n",
       "      <td>24.44</td>\n",
       "      <td>9800</td>\n",
       "    </tr>\n",
       "    <tr>\n",
       "      <th>2</th>\n",
       "      <td>17</td>\n",
       "      <td>2014</td>\n",
       "      <td>1404</td>\n",
       "      <td>Kaepernick, Colin</td>\n",
       "      <td>QB</td>\n",
       "      <td>sfo</td>\n",
       "      <td>h</td>\n",
       "      <td>ari</td>\n",
       "      <td>22.46</td>\n",
       "      <td>7000</td>\n",
       "    </tr>\n",
       "    <tr>\n",
       "      <th>3</th>\n",
       "      <td>17</td>\n",
       "      <td>2014</td>\n",
       "      <td>1340</td>\n",
       "      <td>Stafford, Matthew</td>\n",
       "      <td>QB</td>\n",
       "      <td>det</td>\n",
       "      <td>a</td>\n",
       "      <td>gnb</td>\n",
       "      <td>21.58</td>\n",
       "      <td>7800</td>\n",
       "    </tr>\n",
       "    <tr>\n",
       "      <th>4</th>\n",
       "      <td>17</td>\n",
       "      <td>2014</td>\n",
       "      <td>1408</td>\n",
       "      <td>Griffin III, Robert</td>\n",
       "      <td>QB</td>\n",
       "      <td>was</td>\n",
       "      <td>h</td>\n",
       "      <td>dal</td>\n",
       "      <td>21.34</td>\n",
       "      <td>6600</td>\n",
       "    </tr>\n",
       "  </tbody>\n",
       "</table>\n",
       "</div>"
      ],
      "text/plain": [
       "   Week  Year   GID                 Name Pos Team h/a Oppt  FD points  \\\n",
       "0    17  2014  1426          Smith, Geno  QB  nyj   a  mia      26.12   \n",
       "1    17  2014  1252       Rodgers, Aaron  QB  gnb   h  det      24.44   \n",
       "2    17  2014  1404    Kaepernick, Colin  QB  sfo   h  ari      22.46   \n",
       "3    17  2014  1340    Stafford, Matthew  QB  det   a  gnb      21.58   \n",
       "4    17  2014  1408  Griffin III, Robert  QB  was   h  dal      21.34   \n",
       "\n",
       "   FD salary  \n",
       "0       6600  \n",
       "1       9800  \n",
       "2       7000  \n",
       "3       7800  \n",
       "4       6600  "
      ]
     },
     "execution_count": 70,
     "metadata": {},
     "output_type": "execute_result"
    }
   ],
   "source": [
    "wk17.head()"
   ]
  },
  {
   "cell_type": "markdown",
   "metadata": {},
   "source": [
    "^^ We see in the above code, I chose week 17 for a reason. We'll see if we can predict these statistics from going through week 1 through 16.\n",
    "\n",
    "### Let's choose a person to begin with and isolate important columns\n",
    "\n",
    "Geno Smith is our guy"
   ]
  },
  {
   "cell_type": "code",
   "execution_count": 71,
   "metadata": {
    "collapsed": false
   },
   "outputs": [
    {
     "data": {
      "text/html": [
       "<div style=\"max-height:1000px;max-width:1500px;overflow:auto;\">\n",
       "<table border=\"1\" class=\"dataframe\">\n",
       "  <thead>\n",
       "    <tr style=\"text-align: right;\">\n",
       "      <th></th>\n",
       "      <th>Week</th>\n",
       "      <th>Year</th>\n",
       "      <th>GID</th>\n",
       "      <th>Name</th>\n",
       "      <th>Pos</th>\n",
       "      <th>Team</th>\n",
       "      <th>h/a</th>\n",
       "      <th>Oppt</th>\n",
       "      <th>FD points</th>\n",
       "      <th>FD salary</th>\n",
       "    </tr>\n",
       "  </thead>\n",
       "  <tbody>\n",
       "    <tr>\n",
       "      <th>21</th>\n",
       "      <td>1</td>\n",
       "      <td>2014</td>\n",
       "      <td>1426</td>\n",
       "      <td>Smith, Geno</td>\n",
       "      <td>QB</td>\n",
       "      <td>nyj</td>\n",
       "      <td>h</td>\n",
       "      <td>oak</td>\n",
       "      <td>13.64</td>\n",
       "      <td>7000</td>\n",
       "    </tr>\n",
       "  </tbody>\n",
       "</table>\n",
       "</div>"
      ],
      "text/plain": [
       "    Week  Year   GID         Name Pos Team h/a Oppt  FD points  FD salary\n",
       "21     1  2014  1426  Smith, Geno  QB  nyj   h  oak      13.64       7000"
      ]
     },
     "execution_count": 71,
     "metadata": {},
     "output_type": "execute_result"
    }
   ],
   "source": [
    "smithWk1 = wk1[wk1['Name']==\"Smith, Geno\"]\n",
    "smithWk1"
   ]
  },
  {
   "cell_type": "markdown",
   "metadata": {},
   "source": [
    "Now we have a single data set for Smith, let's create a complete data set for his whole season"
   ]
  },
  {
   "cell_type": "code",
   "execution_count": 72,
   "metadata": {
    "collapsed": false
   },
   "outputs": [
    {
     "data": {
      "text/html": [
       "<div style=\"max-height:1000px;max-width:1500px;overflow:auto;\">\n",
       "<table border=\"1\" class=\"dataframe\">\n",
       "  <thead>\n",
       "    <tr style=\"text-align: right;\">\n",
       "      <th></th>\n",
       "      <th>Week</th>\n",
       "      <th>Year</th>\n",
       "      <th>GID</th>\n",
       "      <th>Name</th>\n",
       "      <th>Pos</th>\n",
       "      <th>Team</th>\n",
       "      <th>h/a</th>\n",
       "      <th>Oppt</th>\n",
       "      <th>FD points</th>\n",
       "      <th>FD salary</th>\n",
       "    </tr>\n",
       "  </thead>\n",
       "  <tbody>\n",
       "    <tr>\n",
       "      <th>16</th>\n",
       "      <td>15</td>\n",
       "      <td>2014</td>\n",
       "      <td>1426</td>\n",
       "      <td>Smith, Geno</td>\n",
       "      <td>QB</td>\n",
       "      <td>nyj</td>\n",
       "      <td>a</td>\n",
       "      <td>ten</td>\n",
       "      <td>12.76</td>\n",
       "      <td>6600</td>\n",
       "    </tr>\n",
       "  </tbody>\n",
       "</table>\n",
       "</div>"
      ],
      "text/plain": [
       "    Week  Year   GID         Name Pos Team h/a Oppt  FD points  FD salary\n",
       "16    15  2014  1426  Smith, Geno  QB  nyj   a  ten      12.76       6600"
      ]
     },
     "execution_count": 72,
     "metadata": {},
     "output_type": "execute_result"
    }
   ],
   "source": [
    "smithWk2 = wk2[wk2['Name']==\"Smith, Geno\"]\n",
    "smithWk3 = wk3[wk3['Name']==\"Smith, Geno\"]\n",
    "smithWk4 = wk4[wk4['Name']==\"Smith, Geno\"]\n",
    "smithWk5 = wk5[wk5['Name']==\"Smith, Geno\"]\n",
    "smithWk6 = wk6[wk6['Name']==\"Smith, Geno\"]\n",
    "smithWk7 = wk7[wk7['Name']==\"Smith, Geno\"]\n",
    "smithWk8 = wk8[wk8['Name']==\"Smith, Geno\"]\n",
    "smithWk9 = wk9[wk9['Name']==\"Smith, Geno\"]\n",
    "smithWk10 = wk10[wk10['Name']==\"Smith, Geno\"]\n",
    "smithWk11 = wk11[wk11['Name']==\"Smith, Geno\"]\n",
    "smithWk12 = wk12[wk12['Name']==\"Smith, Geno\"]\n",
    "smithWk13 = wk13[wk13['Name']==\"Smith, Geno\"]\n",
    "smithWk14 = wk14[wk14['Name']==\"Smith, Geno\"]\n",
    "smithWk15 = wk15[wk15['Name']==\"Smith, Geno\"]\n",
    "smithWk16 = wk16[wk16['Name']==\"Smith, Geno\"]\n",
    "smithWk17 = wk17[wk17['Name']==\"Smith, Geno\"]\n",
    "\n",
    "smithWk15\n"
   ]
  },
  {
   "cell_type": "code",
   "execution_count": 73,
   "metadata": {
    "collapsed": false,
    "scrolled": true
   },
   "outputs": [
    {
     "data": {
      "text/html": [
       "<div style=\"max-height:1000px;max-width:1500px;overflow:auto;\">\n",
       "<table border=\"1\" class=\"dataframe\">\n",
       "  <thead>\n",
       "    <tr style=\"text-align: right;\">\n",
       "      <th></th>\n",
       "      <th>h/a</th>\n",
       "      <th>Oppt</th>\n",
       "      <th>FD points</th>\n",
       "      <th>FD salary</th>\n",
       "    </tr>\n",
       "    <tr>\n",
       "      <th>Week</th>\n",
       "      <th></th>\n",
       "      <th></th>\n",
       "      <th></th>\n",
       "      <th></th>\n",
       "    </tr>\n",
       "  </thead>\n",
       "  <tbody>\n",
       "    <tr>\n",
       "      <th>1</th>\n",
       "      <td>h</td>\n",
       "      <td>oak</td>\n",
       "      <td>13.64</td>\n",
       "      <td>7000</td>\n",
       "    </tr>\n",
       "    <tr>\n",
       "      <th>2</th>\n",
       "      <td>a</td>\n",
       "      <td>gnb</td>\n",
       "      <td>18.64</td>\n",
       "      <td>6900</td>\n",
       "    </tr>\n",
       "    <tr>\n",
       "      <th>3</th>\n",
       "      <td>h</td>\n",
       "      <td>chi</td>\n",
       "      <td>16.64</td>\n",
       "      <td>7400</td>\n",
       "    </tr>\n",
       "    <tr>\n",
       "      <th>4</th>\n",
       "      <td>h</td>\n",
       "      <td>det</td>\n",
       "      <td>9.76</td>\n",
       "      <td>7400</td>\n",
       "    </tr>\n",
       "    <tr>\n",
       "      <th>5</th>\n",
       "      <td>a</td>\n",
       "      <td>sdg</td>\n",
       "      <td>0.38</td>\n",
       "      <td>7100</td>\n",
       "    </tr>\n",
       "    <tr>\n",
       "      <th>6</th>\n",
       "      <td>h</td>\n",
       "      <td>den</td>\n",
       "      <td>15.70</td>\n",
       "      <td>6900</td>\n",
       "    </tr>\n",
       "    <tr>\n",
       "      <th>7</th>\n",
       "      <td>a</td>\n",
       "      <td>nwe</td>\n",
       "      <td>16.74</td>\n",
       "      <td>6900</td>\n",
       "    </tr>\n",
       "    <tr>\n",
       "      <th>8</th>\n",
       "      <td>h</td>\n",
       "      <td>buf</td>\n",
       "      <td>-2.80</td>\n",
       "      <td>7000</td>\n",
       "    </tr>\n",
       "    <tr>\n",
       "      <th>12</th>\n",
       "      <td>a</td>\n",
       "      <td>buf</td>\n",
       "      <td>3.96</td>\n",
       "      <td>5000</td>\n",
       "    </tr>\n",
       "    <tr>\n",
       "      <th>13</th>\n",
       "      <td>h</td>\n",
       "      <td>mia</td>\n",
       "      <td>3.50</td>\n",
       "      <td>5000</td>\n",
       "    </tr>\n",
       "    <tr>\n",
       "      <th>14</th>\n",
       "      <td>a</td>\n",
       "      <td>min</td>\n",
       "      <td>16.46</td>\n",
       "      <td>6200</td>\n",
       "    </tr>\n",
       "    <tr>\n",
       "      <th>15</th>\n",
       "      <td>a</td>\n",
       "      <td>ten</td>\n",
       "      <td>12.76</td>\n",
       "      <td>6600</td>\n",
       "    </tr>\n",
       "    <tr>\n",
       "      <th>16</th>\n",
       "      <td>h</td>\n",
       "      <td>nwe</td>\n",
       "      <td>12.30</td>\n",
       "      <td>6500</td>\n",
       "    </tr>\n",
       "    <tr>\n",
       "      <th>17</th>\n",
       "      <td>a</td>\n",
       "      <td>mia</td>\n",
       "      <td>26.12</td>\n",
       "      <td>6600</td>\n",
       "    </tr>\n",
       "  </tbody>\n",
       "</table>\n",
       "</div>"
      ],
      "text/plain": [
       "     h/a Oppt  FD points  FD salary\n",
       "Week                               \n",
       "1      h  oak      13.64       7000\n",
       "2      a  gnb      18.64       6900\n",
       "3      h  chi      16.64       7400\n",
       "4      h  det       9.76       7400\n",
       "5      a  sdg       0.38       7100\n",
       "6      h  den      15.70       6900\n",
       "7      a  nwe      16.74       6900\n",
       "8      h  buf      -2.80       7000\n",
       "12     a  buf       3.96       5000\n",
       "13     h  mia       3.50       5000\n",
       "14     a  min      16.46       6200\n",
       "15     a  ten      12.76       6600\n",
       "16     h  nwe      12.30       6500\n",
       "17     a  mia      26.12       6600"
      ]
     },
     "execution_count": 73,
     "metadata": {},
     "output_type": "execute_result"
    }
   ],
   "source": [
    "smithGeno2014 = smithWk1.append(smithWk2).append(smithWk3).append(smithWk4).append(smithWk5).append(smithWk6).append(smithWk7).append(smithWk8).append(smithWk9).append(smithWk10).append(smithWk11).append(smithWk12).append(smithWk13).append(smithWk14).append(smithWk15).append(smithWk16).append(smithWk17)\n",
    "smithGeno2014Full = smithGeno2014\n",
    "\n",
    "smithGeno2014Full.set_index(\"Week\")\n",
    "smithGeno2014 = smithGeno2014.set_index(\"Week\")\n",
    "smithGeno2014 = smithGeno2014.drop(\"Year\",1)\n",
    "smithGeno2014 = smithGeno2014.drop(\"GID\",1)\n",
    "smithGeno2014 = smithGeno2014.drop(\"Name\",1)\n",
    "smithGeno2014 = smithGeno2014.drop(\"Pos\",1).drop(\"Team\",1)\n",
    "\n",
    "smithGeno2014"
   ]
  },
  {
   "cell_type": "markdown",
   "metadata": {},
   "source": [
    "###Let's check out Aaron Rodgers stats"
   ]
  },
  {
   "cell_type": "code",
   "execution_count": 74,
   "metadata": {
    "collapsed": false
   },
   "outputs": [],
   "source": [
    "rodgersWk1 = wk1[wk1['Name']==\"Rodgers, Aaron\"]\n",
    "rodgersWk2 = wk2[wk2['Name']==\"Rodgers, Aaron\"]\n",
    "rodgersWk3 = wk3[wk3['Name']==\"Rodgers, Aaron\"]\n",
    "rodgersWk4 = wk4[wk4['Name']==\"Rodgers, Aaron\"]\n",
    "rodgersWk5 = wk5[wk5['Name']==\"Rodgers, Aaron\"]\n",
    "rodgersWk6 = wk6[wk6['Name']==\"Rodgers, Aaron\"]\n",
    "rodgersWk7 = wk7[wk7['Name']==\"Rodgers, Aaron\"]\n",
    "rodgersWk8 = wk8[wk8['Name']==\"Rodgers, Aaron\"]\n",
    "rodgersWk9 = wk9[wk9['Name']==\"Rodgers, Aaron\"]\n",
    "rodgersWk10 = wk10[wk10['Name']==\"Rodgers, Aaron\"]\n",
    "rodgersWk11 = wk11[wk11['Name']==\"Rodgers, Aaron\"]\n",
    "rodgersWk12 = wk12[wk12['Name']==\"Rodgers, Aaron\"]\n",
    "rodgersWk13 = wk13[wk13['Name']==\"Rodgers, Aaron\"]\n",
    "rodgersWk14 = wk14[wk14['Name']==\"Rodgers, Aaron\"]\n",
    "rodgersWk15 = wk15[wk15['Name']==\"RodgerW\n",
    "rodgersAaron2014 = rodgersWk1.append(rodgersWk2).append(rodgersWk3).append(rodgersWk4).append(rodgersWk5).append(rodgersWk6).append(rodgersWk7).append(rodgersWk8).append(rodgersWk9).append(rodgersWk10).append(rodgersWk11).append(rodgersWk12).append(rodgersWk13).append(rodgersWk14).append(rodgersWk15).append(rodgersWk16).append(rodgersWk17)\n",
    "rodgersAaron2014Full = rodgersAaron2014\n",
    "\n",
    "rodgersAaron2014Full.set_index(\"Week\")\n",
    "rodgersAaron2014 = rodgersAaron2014.set_index(\"Week\")\n",
    "rodgersAaron2014 = rodgersAaron2014.drop(\"Year\",1)\n",
    "rodgersAaron2014 = rodgersAaron2014.drop(\"GID\",1)\n",
    "rodgersAaron2014 = rodgersAaron2014.drop(\"Name\",1)\n",
    "rodgersAaron2014 = rodgersAaron2014.drop(\"Pos\",1).drop(\"Team\",1)\n",
    "\n",
    "rodgersAaron2014\n",
    "rodgersAaron2014home = rodgersAaron2014[rodgersAaron2014[\"h/a\"]==\"h\"]\n",
    "rodgersAaron2014away = rodgersAaron2014[rodgersAaron2014[\"h/a\"]==\"a\"]\n"
   ]
  },
  {
   "cell_type": "code",
   "execution_count": 75,
   "metadata": {
    "collapsed": false
   },
   "outputs": [
    {
     "data": {
      "text/html": [
       "<div style=\"max-height:1000px;max-width:1500px;overflow:auto;\">\n",
       "<table border=\"1\" class=\"dataframe\">\n",
       "  <thead>\n",
       "    <tr style=\"text-align: right;\">\n",
       "      <th></th>\n",
       "      <th>h/a</th>\n",
       "      <th>Oppt</th>\n",
       "      <th>FD points</th>\n",
       "      <th>FD salary</th>\n",
       "    </tr>\n",
       "    <tr>\n",
       "      <th>Week</th>\n",
       "      <th></th>\n",
       "      <th></th>\n",
       "      <th></th>\n",
       "      <th></th>\n",
       "    </tr>\n",
       "  </thead>\n",
       "  <tbody>\n",
       "    <tr>\n",
       "      <th>2</th>\n",
       "      <td>h</td>\n",
       "      <td>nyj</td>\n",
       "      <td>28.64</td>\n",
       "      <td>9100</td>\n",
       "    </tr>\n",
       "    <tr>\n",
       "      <th>5</th>\n",
       "      <td>h</td>\n",
       "      <td>min</td>\n",
       "      <td>18.24</td>\n",
       "      <td>9700</td>\n",
       "    </tr>\n",
       "    <tr>\n",
       "      <th>7</th>\n",
       "      <td>h</td>\n",
       "      <td>car</td>\n",
       "      <td>24.30</td>\n",
       "      <td>9700</td>\n",
       "    </tr>\n",
       "    <tr>\n",
       "      <th>10</th>\n",
       "      <td>h</td>\n",
       "      <td>chi</td>\n",
       "      <td>36.60</td>\n",
       "      <td>9900</td>\n",
       "    </tr>\n",
       "    <tr>\n",
       "      <th>11</th>\n",
       "      <td>h</td>\n",
       "      <td>phi</td>\n",
       "      <td>28.84</td>\n",
       "      <td>10100</td>\n",
       "    </tr>\n",
       "    <tr>\n",
       "      <th>13</th>\n",
       "      <td>h</td>\n",
       "      <td>nwe</td>\n",
       "      <td>24.92</td>\n",
       "      <td>9900</td>\n",
       "    </tr>\n",
       "    <tr>\n",
       "      <th>14</th>\n",
       "      <td>h</td>\n",
       "      <td>atl</td>\n",
       "      <td>27.88</td>\n",
       "      <td>10400</td>\n",
       "    </tr>\n",
       "    <tr>\n",
       "      <th>17</th>\n",
       "      <td>h</td>\n",
       "      <td>det</td>\n",
       "      <td>24.44</td>\n",
       "      <td>9800</td>\n",
       "    </tr>\n",
       "  </tbody>\n",
       "</table>\n",
       "</div>"
      ],
      "text/plain": [
       "     h/a Oppt  FD points  FD salary\n",
       "Week                               \n",
       "2      h  nyj      28.64       9100\n",
       "5      h  min      18.24       9700\n",
       "7      h  car      24.30       9700\n",
       "10     h  chi      36.60       9900\n",
       "11     h  phi      28.84      10100\n",
       "13     h  nwe      24.92       9900\n",
       "14     h  atl      27.88      10400\n",
       "17     h  det      24.44       9800"
      ]
     },
     "execution_count": 75,
     "metadata": {},
     "output_type": "execute_result"
    }
   ],
   "source": [
    "rodgersAaron2014home"
   ]
  },
  {
   "cell_type": "code",
   "execution_count": 76,
   "metadata": {
    "collapsed": false
   },
   "outputs": [
    {
     "data": {
      "text/html": [
       "<div style=\"max-height:1000px;max-width:1500px;overflow:auto;\">\n",
       "<table border=\"1\" class=\"dataframe\">\n",
       "  <thead>\n",
       "    <tr style=\"text-align: right;\">\n",
       "      <th></th>\n",
       "      <th>h/a</th>\n",
       "      <th>Oppt</th>\n",
       "      <th>FD points</th>\n",
       "      <th>FD salary</th>\n",
       "    </tr>\n",
       "    <tr>\n",
       "      <th>Week</th>\n",
       "      <th></th>\n",
       "      <th></th>\n",
       "      <th></th>\n",
       "      <th></th>\n",
       "    </tr>\n",
       "  </thead>\n",
       "  <tbody>\n",
       "    <tr>\n",
       "      <th>1</th>\n",
       "      <td>a</td>\n",
       "      <td>sea</td>\n",
       "      <td>10.56</td>\n",
       "      <td>9600</td>\n",
       "    </tr>\n",
       "    <tr>\n",
       "      <th>3</th>\n",
       "      <td>a</td>\n",
       "      <td>det</td>\n",
       "      <td>10.48</td>\n",
       "      <td>9800</td>\n",
       "    </tr>\n",
       "    <tr>\n",
       "      <th>4</th>\n",
       "      <td>a</td>\n",
       "      <td>chi</td>\n",
       "      <td>28.88</td>\n",
       "      <td>9500</td>\n",
       "    </tr>\n",
       "    <tr>\n",
       "      <th>6</th>\n",
       "      <td>a</td>\n",
       "      <td>mia</td>\n",
       "      <td>25.96</td>\n",
       "      <td>9600</td>\n",
       "    </tr>\n",
       "    <tr>\n",
       "      <th>8</th>\n",
       "      <td>a</td>\n",
       "      <td>nor</td>\n",
       "      <td>26.82</td>\n",
       "      <td>10000</td>\n",
       "    </tr>\n",
       "    <tr>\n",
       "      <th>12</th>\n",
       "      <td>a</td>\n",
       "      <td>min</td>\n",
       "      <td>19.76</td>\n",
       "      <td>10200</td>\n",
       "    </tr>\n",
       "    <tr>\n",
       "      <th>15</th>\n",
       "      <td>a</td>\n",
       "      <td>buf</td>\n",
       "      <td>8.10</td>\n",
       "      <td>10200</td>\n",
       "    </tr>\n",
       "    <tr>\n",
       "      <th>16</th>\n",
       "      <td>a</td>\n",
       "      <td>tam</td>\n",
       "      <td>14.72</td>\n",
       "      <td>10000</td>\n",
       "    </tr>\n",
       "  </tbody>\n",
       "</table>\n",
       "</div>"
      ],
      "text/plain": [
       "     h/a Oppt  FD points  FD salary\n",
       "Week                               \n",
       "1      a  sea      10.56       9600\n",
       "3      a  det      10.48       9800\n",
       "4      a  chi      28.88       9500\n",
       "6      a  mia      25.96       9600\n",
       "8      a  nor      26.82      10000\n",
       "12     a  min      19.76      10200\n",
       "15     a  buf       8.10      10200\n",
       "16     a  tam      14.72      10000"
      ]
     },
     "execution_count": 76,
     "metadata": {},
     "output_type": "execute_result"
    }
   ],
   "source": [
    "rodgersAaron2014away"
   ]
  },
  {
   "cell_type": "markdown",
   "metadata": {},
   "source": [
    "Or another way of looking at away/home games is by group by"
   ]
  },
  {
   "cell_type": "code",
   "execution_count": 77,
   "metadata": {
    "collapsed": false
   },
   "outputs": [
    {
     "data": {
      "text/plain": [
       "{'a': [1, 3, 4, 6, 8, 12, 15, 16], 'h': [2, 5, 7, 10, 11, 13, 14, 17]}"
      ]
     },
     "execution_count": 77,
     "metadata": {},
     "output_type": "execute_result"
    }
   ],
   "source": [
    "rodgersAaron2014.groupby('h/a').groups\n"
   ]
  },
  {
   "cell_type": "code",
   "execution_count": 78,
   "metadata": {
    "collapsed": false
   },
   "outputs": [
    {
     "data": {
      "text/html": [
       "<div style=\"max-height:1000px;max-width:1500px;overflow:auto;\">\n",
       "<table border=\"1\" class=\"dataframe\">\n",
       "  <thead>\n",
       "    <tr style=\"text-align: right;\">\n",
       "      <th></th>\n",
       "      <th>FD points</th>\n",
       "      <th>FD salary</th>\n",
       "    </tr>\n",
       "    <tr>\n",
       "      <th>h/a</th>\n",
       "      <th></th>\n",
       "      <th></th>\n",
       "    </tr>\n",
       "  </thead>\n",
       "  <tbody>\n",
       "    <tr>\n",
       "      <th>a</th>\n",
       "      <td>18.1600</td>\n",
       "      <td>9862.5</td>\n",
       "    </tr>\n",
       "    <tr>\n",
       "      <th>h</th>\n",
       "      <td>26.7325</td>\n",
       "      <td>9825.0</td>\n",
       "    </tr>\n",
       "  </tbody>\n",
       "</table>\n",
       "</div>"
      ],
      "text/plain": [
       "     FD points  FD salary\n",
       "h/a                      \n",
       "a      18.1600     9862.5\n",
       "h      26.7325     9825.0"
      ]
     },
     "execution_count": 78,
     "metadata": {},
     "output_type": "execute_result"
    }
   ],
   "source": [
    "rodgersAaron2014h_a_mean = rodgersAaron2014.groupby('h/a').mean()\n",
    "rodgersAaron2014h_a_mean\n"
   ]
  },
  {
   "cell_type": "markdown",
   "metadata": {},
   "source": [
    "#Plotting!"
   ]
  },
  {
   "cell_type": "code",
   "execution_count": 91,
   "metadata": {
    "collapsed": false
   },
   "outputs": [],
   "source": [
    "import matplotlib.pyplot as plt\n",
    "plt.scatter(rodgersAaron2014.index, rodgersAaron2014[\"FD points\"])\n",
    "plt.show()"
   ]
  },
  {
   "cell_type": "code",
   "execution_count": 85,
   "metadata": {
    "collapsed": false
   },
   "outputs": [
    {
     "data": {
      "text/plain": [
       "Week\n",
       "1     10.56\n",
       "2     28.64\n",
       "3     10.48\n",
       "4     28.88\n",
       "5     18.24\n",
       "6     25.96\n",
       "7     24.30\n",
       "8     26.82\n",
       "10    36.60\n",
       "11    28.84\n",
       "12    19.76\n",
       "13    24.92\n",
       "14    27.88\n",
       "15     8.10\n",
       "16    14.72\n",
       "17    24.44\n",
       "Name: FD points, dtype: float64"
      ]
     },
     "execution_count": 85,
     "metadata": {},
     "output_type": "execute_result"
    }
   ],
   "source": [
    "rodgersAaron2014[\"FD points\"]"
   ]
  },
  {
   "cell_type": "code",
   "execution_count": null,
   "metadata": {
    "collapsed": true
   },
   "outputs": [],
   "source": []
  }
 ],
 "metadata": {
  "kernelspec": {
   "display_name": "Python 3",
   "language": "python",
   "name": "python3"
  },
  "language_info": {
   "codemirror_mode": {
    "name": "ipython",
    "version": 3
   },
   "file_extension": ".py",
   "mimetype": "text/x-python",
   "name": "python",
   "nbconvert_exporter": "python",
   "pygments_lexer": "ipython3",
   "version": "3.4.0"
  }
 },
 "nbformat": 4,
 "nbformat_minor": 0
}
