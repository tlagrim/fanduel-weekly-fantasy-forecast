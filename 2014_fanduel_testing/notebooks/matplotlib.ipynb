{
 "cells": [
  {
   "cell_type": "code",
   "execution_count": null,
   "metadata": {
    "collapsed": false
   },
   "outputs": [],
   "source": [
    "%matplotlib inline"
   ]
  },
  {
   "cell_type": "markdown",
   "metadata": {},
   "source": [
    "# matplotlib\n",
    "\n",
    "(If you're using the code files, please open matplotlib_lessons.py)\n",
    "\n",
    "## The importance of communicating your results\n",
    "\n",
    "So, you've done your preprocessing, and you've doen your analysis. Now, you have to communicate your results. Often, you're going to be communicating with people who aren't programmers. Data visualization is a great way to communicate your analyses in clear, meaningful ways. It also allows you to literally see what's going on in your data. (I should note that data visualization is often a great exploratory step, because again, you get to see what's going on in your data.)\n",
    "\n",
    "One of the most important parts of visualization is choosing the best plot for your data. A great visualization shouldn't hide the analysis you've made but enhance it. It doesn't have to fancy or complicated, just clear.\n",
    "\n",
    "## What is matplotlib?\n",
    "\n",
    "Matplotlib is a 2-dimensional visualization library that is very widely used. You can create a wide variety of plots with it, and you can easily feed in data from other modules in the scientific Python stack, like NumPy, SciPy, scikit-learn, statsmodels, etc. There are a lot of resources online for learning matplotlib, including the matplotlib documentation.\n",
    "\n",
    "## Why matplotlib?\n",
    "\n",
    "Matplotlib is, like I mentioned, very widely used. It's very comprehensive, there's a lot of community support for it, and it's in constant development. It is not my personal favorite, but due to its popularity and comprehensiveness, I would be remiss if I didn't talk about it in this tutorial.\n",
    "\n",
    "## This section\n",
    "\n",
    "All of the examples I'll show here are fairly simple, uncomplicated examples. After trying out a few different plots, we'll switch back over to our census data and see what we can do with that.\n",
    "\n",
    "## Plotting\n",
    "\n",
    "Plotting is really easy in matplotlib. Let's make a scatterplot of our wine data, of the abv and color features."
   ]
  },
  {
   "cell_type": "code",
   "execution_count": 5,
   "metadata": {
    "collapsed": false
   },
   "outputs": [],
   "source": [
    "import pandas as pd\n",
    "import matplotlib.pyplot as plt\n",
    "\n",
    "wine = pd.read_csv('../data/wine.csv')\n",
    "\n",
    "# scatterplot of that data\n",
    "\n",
    "plt.scatter(wine.abv, wine.color)\n",
    "plt.show()"
   ]
  },
  {
   "cell_type": "markdown",
   "metadata": {},
   "source": [
    "As you can see, it's very easy to feed data from Pandas into matplotlib.\n",
    "\n",
    "It's also easy to feed in data from scikit-learn. Let's make a graph of the regression line from the linear regression example. First, we'll create our estimator again."
   ]
  },
  {
   "cell_type": "code",
   "execution_count": 6,
   "metadata": {
    "collapsed": false
   },
   "outputs": [
    {
     "data": {
      "text/plain": [
       "LinearRegression(copy_X=True, fit_intercept=True, n_jobs=1, normalize=False)"
      ]
     },
     "execution_count": 6,
     "metadata": {},
     "output_type": "execute_result"
    }
   ],
   "source": [
    "from sklearn.cross_validation import train_test_split\n",
    "from sklearn.linear_model import LinearRegression\n",
    "\n",
    "wine_data_mag = wine.loc[:, ['magnesium']]\n",
    "wine_data_abv = wine.loc[:, 'abv']\n",
    "\n",
    "wine_mag_train, wine_mag_test, wine_abv_train, wine_abv_test = train_test_split(wine_data_mag, wine_data_abv)\n",
    "\n",
    "lr = LinearRegression()\n",
    "lr.fit(wine_mag_train, wine_abv_train)"
   ]
  },
  {
   "cell_type": "markdown",
   "metadata": {},
   "source": [
    "Then, we'll plot our predicted regression line."
   ]
  },
  {
   "cell_type": "code",
   "execution_count": 7,
   "metadata": {
    "collapsed": false
   },
   "outputs": [],
   "source": [
    "plt.scatter(wine_data_mag.magnesium, wine_data_abv, color='black')\n",
    "plt.plot(wine_mag_test, lr.predict(wine_mag_test), color='green',\n",
    "         linewidth=3)\n",
    "plt.show()"
   ]
  },
  {
   "cell_type": "code",
   "execution_count": null,
   "metadata": {
    "collapsed": false
   },
   "outputs": [],
   "source": [
    "wine_mag_test"
   ]
  },
  {
   "cell_type": "markdown",
   "metadata": {},
   "source": [
    "Another easy plot to make is a bar chart. Let's look at the distribution of `wine_types` in the wine `DataFrame`. We're going to get the counts using the `value_counts()` function from Pandas, and then split up the index from those counts."
   ]
  },
  {
   "cell_type": "code",
   "execution_count": 22,
   "metadata": {
    "collapsed": false
   },
   "outputs": [],
   "source": [
    "wine_type = wine.loc[:, 'wine_type'].value_counts()\n",
    "plt.bar(wine_type.index, wine_type.values)\n"
   ]
  },
  {
   "cell_type": "markdown",
   "metadata": {},
   "source": [
    "See how the x-axis has numbers in increments of 0.5? That's because the `bar()` function in matplotlib is expecting continuous input. For this situation, there's a much easier way. Pandas actually has plotting functionality of its own. Pandas plotting is a wrapper around matplotlib, so it still uses matplotlib to plot, with some refinements. If we wanted to plot the same chart, it's easier in Pandas:"
   ]
  },
  {
   "cell_type": "code",
   "execution_count": 14,
   "metadata": {
    "collapsed": false
   },
   "outputs": [
    {
     "data": {
      "text/plain": [
       "<matplotlib.axes._subplots.AxesSubplot at 0x10f9bf198>"
      ]
     },
     "execution_count": 14,
     "metadata": {},
     "output_type": "execute_result"
    }
   ],
   "source": [
    "\n",
    "wine_type.plot(kind='bar')"
   ]
  },
  {
   "cell_type": "markdown",
   "metadata": {},
   "source": [
    "We have a pretty good value distribution.\n",
    "\n",
    "Making a histogram is also pretty simple. Let's look at the breakdown of abv across the wine dataset. Histograms group data into counts by values, or into bins. With the `hist()` function, you can set the number of bins. The default is 10."
   ]
  },
  {
   "cell_type": "code",
   "execution_count": 23,
   "metadata": {
    "collapsed": false
   },
   "outputs": [],
   "source": [
    "wine_abv = wine.loc[:, 'abv']\n",
    "plt.hist(wine_abv, bins=14, color='red')\n",
    "plt.show()"
   ]
  },
  {
   "cell_type": "markdown",
   "metadata": {},
   "source": [
    "Let's plot the predicted values for wine type against the real values for wine type. First, we'll create our classifier again."
   ]
  },
  {
   "cell_type": "code",
   "execution_count": 24,
   "metadata": {
    "collapsed": false
   },
   "outputs": [],
   "source": [
    "from sklearn.cross_validation import train_test_split\n",
    "from sklearn.neighbors import KNeighborsClassifier\n",
    "\n",
    "wine_data = pd.read_csv('../data/wine_data.csv')\n",
    "wine_labels = pd.read_csv('../data/wine_labels.csv', squeeze=True)\n",
    "\n",
    "wine_data_train, wine_data_test, wine_labels_train, wine_labels_test = train_test_split(wine_data, wine_labels)\n",
    "\n",
    "knn = KNeighborsClassifier()\n",
    "knn.fit(wine_data_train, wine_labels_train)\n",
    "pred = list(knn.predict(wine_data_test))"
   ]
  },
  {
   "cell_type": "markdown",
   "metadata": {},
   "source": [
    "Now, we'll take the counts of each wine type in each set. We'll also offset the x values for one of the sets, so that we can look at the bars more easily."
   ]
  },
  {
   "cell_type": "code",
   "execution_count": 25,
   "metadata": {
    "collapsed": false
   },
   "outputs": [],
   "source": [
    "x = [1, 2, 3]\n",
    "# offsetting real values to see bars next to each other\n",
    "x2 = [1.1, 2.1, 3.1]\n",
    "y = [pred.count(1), pred.count(2), pred.count(3)]\n",
    "wine_test = list(wine_labels_test)\n",
    "y2 = [wine_test.count(1), wine_test.count(2), wine_test.count(3)]\n",
    "\n",
    "plt.bar(x2, y, width=0.2)\n",
    "plt.bar(x, y2, width=0.2, color='green', align='center')\n",
    "plt.show()"
   ]
  },
  {
   "cell_type": "markdown",
   "metadata": {},
   "source": [
    "Our kNN classifier doesn't look too shabby!\n",
    "\n",
    "#### Customizing your plots\n",
    "\n",
    "Let's talk about customizing your plots. matplotlib offers a wide variety of customization, from colors to shapes to line widths to axis labels. We'll go through a few different customizations.\n",
    "\n",
    "You've already seen that it's easy to change the color, using the 'color' parameter in each of the various plot functions. This parameter takes a string, and that can be a color name like red or blue, or a hex string:"
   ]
  },
  {
   "cell_type": "code",
   "execution_count": null,
   "metadata": {
    "collapsed": false
   },
   "outputs": [],
   "source": [
    "plt.hist(wine_abv, bins=14, color='#CC00FF')\n",
    "plt.show()"
   ]
  },
  {
   "cell_type": "markdown",
   "metadata": {},
   "source": [
    "Let's add axis labels."
   ]
  },
  {
   "cell_type": "code",
   "execution_count": 28,
   "metadata": {
    "collapsed": false
   },
   "outputs": [],
   "source": [
    "plt.hist(wine_abv, bins=14, color='#CC00FF')\n",
    "plt.xlabel('abv')\n",
    "plt.ylabel('counts')\n",
    "plt.show()"
   ]
  },
  {
   "cell_type": "markdown",
   "metadata": {},
   "source": [
    "Let's take our regression plot and make it look more interesting."
   ]
  },
  {
   "cell_type": "code",
   "execution_count": 29,
   "metadata": {
    "collapsed": false
   },
   "outputs": [],
   "source": [
    "plt.scatter(wine_data_mag.magnesium, wine_data_abv, color='blue', marker='*')\n",
    "plt.plot(wine_mag_test, lr.predict(wine_mag_test), 'g^',\n",
    "         linewidth=2)\n",
    "plt.show()"
   ]
  },
  {
   "cell_type": "markdown",
   "metadata": {},
   "source": [
    "We now have blue stars for our plot points and green triangles for our regression line. Let's add a legend that tells us that the stars signify our wine data."
   ]
  },
  {
   "cell_type": "code",
   "execution_count": 31,
   "metadata": {
    "collapsed": false
   },
   "outputs": [],
   "source": [
    "scat = plt.scatter(wine_data_mag.magnesium, wine_data_abv, color='blue', marker='*')\n",
    "plt.plot(wine_mag_test, lr.predict(wine_mag_test), 'g^',\n",
    "         linewidth=2)\n",
    "plt.legend([scat], ['wine data'])\n",
    "plt.show()"
   ]
  },
  {
   "cell_type": "markdown",
   "metadata": {},
   "source": [
    "## Lesson: make some plots!"
   ]
  },
  {
   "cell_type": "code",
   "execution_count": null,
   "metadata": {
    "collapsed": false
   },
   "outputs": [],
   "source": [
    "# Using the auto_mpg DataFrame, come up with a scatter plot for weight and mpg.\n",
    "\n",
    "auto_mpg = pd.read_csv('../data/auto_mpg.txt', delimiter=\"\\t\")\n",
    "\n"
   ]
  },
  {
   "cell_type": "code",
   "execution_count": null,
   "metadata": {
    "collapsed": false
   },
   "outputs": [],
   "source": [
    "# Can you add weight and mpg axis labels to your plot?\n",
    "\n"
   ]
  },
  {
   "cell_type": "code",
   "execution_count": null,
   "metadata": {
    "collapsed": false
   },
   "outputs": [],
   "source": [
    "# Can you make a histogram of mpg? Can you change the color to something other than that awful blue?\n",
    "\n"
   ]
  },
  {
   "cell_type": "code",
   "execution_count": null,
   "metadata": {
    "collapsed": false
   },
   "outputs": [],
   "source": [
    "# Make a plot of anything you want.\n",
    "\n"
   ]
  },
  {
   "cell_type": "markdown",
   "metadata": {},
   "source": [
    "# For those using IPython Notebook/Wakari/NBViewer: Go to the [data_analysis](data_analysis.ipynb) notebook!\n",
    "\n",
    "# For those using code files, go to data_analysis.py!"
   ]
  }
 ],
 "metadata": {
  "kernelspec": {
   "display_name": "Python 3",
   "language": "python",
   "name": "python3"
  },
  "language_info": {
   "codemirror_mode": {
    "name": "ipython",
    "version": 3
   },
   "file_extension": ".py",
   "mimetype": "text/x-python",
   "name": "python",
   "nbconvert_exporter": "python",
   "pygments_lexer": "ipython3",
   "version": "3.4.0"
  }
 },
 "nbformat": 4,
 "nbformat_minor": 0
}
