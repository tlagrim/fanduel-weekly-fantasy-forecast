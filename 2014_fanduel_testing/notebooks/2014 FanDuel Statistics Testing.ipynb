{
 "cells": [
  {
   "cell_type": "markdown",
   "metadata": {},
   "source": [
    "# FanDuel 2014 Week 1 - 17 Statistical Analysis\n",
    "Testing \"fanduel2014week*.csv\""
   ]
  },
  {
   "cell_type": "code",
   "execution_count": 42,
   "metadata": {
    "collapsed": false
   },
   "outputs": [],
   "source": [
    "import pandas as pd\n"
   ]
  },
  {
   "cell_type": "markdown",
   "metadata": {},
   "source": [
    "for loop to populate all weeks in respective variables\n",
    "\n",
    "###IMPORTANT: variable automation is not working correctly."
   ]
  },
  {
   "cell_type": "code",
   "execution_count": 43,
   "metadata": {
    "collapsed": false,
    "scrolled": true
   },
   "outputs": [
    {
     "data": {
      "text/plain": [
       "'\\nnumberofweeks = 14\\ncounter = 1\\nwhile counter <= numberofweeks:\\n    weeknumber = str(counter)\\n    filename = \"../data/fanduel_data/fanduel2014week\"\\n    filename += weeknumber\\n    filename += \".csv\"\\n    # print (filename) \\n    \\n    weekname = \"wk\"\\n    weekname += weeknumber \\n    #str (weekname) = pd.read_csv(filename,delimiter=\";\")\\n    # print (weekname)\\n    #\"wk\"+=str(counter) = pd.read_csv(filename,delimiter=\";\")\\n    \\n    # weeknumber = pd.read_csv(filename,delimiter=\";\")\\n    # print (weeknumber, \" = \", filename, sep=\"\")\\n    counter += 1\\n    \\n#wk12.head()\\n\\n'"
      ]
     },
     "execution_count": 43,
     "metadata": {},
     "output_type": "execute_result"
    }
   ],
   "source": [
    "'''\n",
    "numberofweeks = 14\n",
    "counter = 1\n",
    "while counter <= numberofweeks:\n",
    "    weeknumber = str(counter)\n",
    "    filename = \"../data/fanduel_data/fanduel2014week\"\n",
    "    filename += weeknumber\n",
    "    filename += \".csv\"\n",
    "    # print (filename) \n",
    "    \n",
    "    weekname = \"wk\"\n",
    "    weekname += weeknumber \n",
    "    #str (weekname) = pd.read_csv(filename,delimiter=\";\")\n",
    "    # print (weekname)\n",
    "    #\"wk\"+=str(counter) = pd.read_csv(filename,delimiter=\";\")\n",
    "    \n",
    "    # weeknumber = pd.read_csv(filename,delimiter=\";\")\n",
    "    # print (weeknumber, \" = \", filename, sep=\"\")\n",
    "    counter += 1\n",
    "    \n",
    "#wk12.head()\n",
    "\n",
    "'''"
   ]
  },
  {
   "cell_type": "markdown",
   "metadata": {},
   "source": [
    "Hardcode weelky variables..."
   ]
  },
  {
   "cell_type": "code",
   "execution_count": 47,
   "metadata": {
    "collapsed": false,
    "scrolled": true
   },
   "outputs": [
    {
     "data": {
      "text/html": [
       "<div style=\"max-height:1000px;max-width:1500px;overflow:auto;\">\n",
       "<table border=\"1\" class=\"dataframe\">\n",
       "  <thead>\n",
       "    <tr style=\"text-align: right;\">\n",
       "      <th></th>\n",
       "      <th>Week</th>\n",
       "      <th>Year</th>\n",
       "      <th>GID</th>\n",
       "      <th>Name</th>\n",
       "      <th>Pos</th>\n",
       "      <th>Team</th>\n",
       "      <th>h/a</th>\n",
       "      <th>Oppt</th>\n",
       "      <th>FD points</th>\n",
       "      <th>FD salary</th>\n",
       "    </tr>\n",
       "  </thead>\n",
       "  <tbody>\n",
       "    <tr>\n",
       "      <th>452</th>\n",
       "      <td>15</td>\n",
       "      <td>2014</td>\n",
       "      <td>7002</td>\n",
       "      <td>Atlanta Defense</td>\n",
       "      <td>Def</td>\n",
       "      <td>atl</td>\n",
       "      <td>h</td>\n",
       "      <td>pit</td>\n",
       "      <td>2</td>\n",
       "      <td>4500</td>\n",
       "    </tr>\n",
       "    <tr>\n",
       "      <th>453</th>\n",
       "      <td>15</td>\n",
       "      <td>2014</td>\n",
       "      <td>7023</td>\n",
       "      <td>Philadelphia Defense</td>\n",
       "      <td>Def</td>\n",
       "      <td>phi</td>\n",
       "      <td>h</td>\n",
       "      <td>dal</td>\n",
       "      <td>1</td>\n",
       "      <td>5200</td>\n",
       "    </tr>\n",
       "    <tr>\n",
       "      <th>454</th>\n",
       "      <td>15</td>\n",
       "      <td>2014</td>\n",
       "      <td>7016</td>\n",
       "      <td>Miami Defense</td>\n",
       "      <td>Def</td>\n",
       "      <td>mia</td>\n",
       "      <td>a</td>\n",
       "      <td>nwe</td>\n",
       "      <td>1</td>\n",
       "      <td>4700</td>\n",
       "    </tr>\n",
       "    <tr>\n",
       "      <th>455</th>\n",
       "      <td>15</td>\n",
       "      <td>2014</td>\n",
       "      <td>7017</td>\n",
       "      <td>Minnesota Defense</td>\n",
       "      <td>Def</td>\n",
       "      <td>min</td>\n",
       "      <td>a</td>\n",
       "      <td>det</td>\n",
       "      <td>1</td>\n",
       "      <td>5100</td>\n",
       "    </tr>\n",
       "    <tr>\n",
       "      <th>456</th>\n",
       "      <td>15</td>\n",
       "      <td>2014</td>\n",
       "      <td>7026</td>\n",
       "      <td>San Diego Defense</td>\n",
       "      <td>Def</td>\n",
       "      <td>sdg</td>\n",
       "      <td>h</td>\n",
       "      <td>den</td>\n",
       "      <td>1</td>\n",
       "      <td>4600</td>\n",
       "    </tr>\n",
       "  </tbody>\n",
       "</table>\n",
       "</div>"
      ],
      "text/plain": [
       "     Week  Year   GID                  Name  Pos Team h/a Oppt  FD points  \\\n",
       "452    15  2014  7002       Atlanta Defense  Def  atl   h  pit          2   \n",
       "453    15  2014  7023  Philadelphia Defense  Def  phi   h  dal          1   \n",
       "454    15  2014  7016         Miami Defense  Def  mia   a  nwe          1   \n",
       "455    15  2014  7017     Minnesota Defense  Def  min   a  det          1   \n",
       "456    15  2014  7026     San Diego Defense  Def  sdg   h  den          1   \n",
       "\n",
       "     FD salary  \n",
       "452       4500  \n",
       "453       5200  \n",
       "454       4700  \n",
       "455       5100  \n",
       "456       4600  "
      ]
     },
     "execution_count": 47,
     "metadata": {},
     "output_type": "execute_result"
    }
   ],
   "source": [
    "wk1 = pd.read_csv(\"../data/fanduel_data/fanduel2014week1.csv\",delimiter=\";\")\n",
    "wk2 = pd.read_csv(\"../data/fanduel_data/fanduel2014week2.csv\",delimiter=\";\")\n",
    "wk3 = pd.read_csv(\"../data/fanduel_data/fanduel2014week3.csv\",delimiter=\";\")\n",
    "wk4 = pd.read_csv(\"../data/fanduel_data/fanduel2014week4.csv\",delimiter=\";\")\n",
    "wk5 = pd.read_csv(\"../data/fanduel_data/fanduel2014week5.csv\",delimiter=\";\")\n",
    "wk6 = pd.read_csv(\"../data/fanduel_data/fanduel2014week6.csv\",delimiter=\";\")\n",
    "wk7 = pd.read_csv(\"../data/fanduel_data/fanduel2014week7.csv\",delimiter=\";\")\n",
    "wk8 = pd.read_csv(\"../data/fanduel_data/fanduel2014week8.csv\",delimiter=\";\")\n",
    "wk9 = pd.read_csv(\"../data/fanduel_data/fanduel2014week9.csv\",delimiter=\";\")\n",
    "wk10 = pd.read_csv(\"../data/fanduel_data/fanduel2014week10.csv\",delimiter=\";\")\n",
    "wk11 = pd.read_csv(\"../data/fanduel_data/fanduel2014week11.csv\",delimiter=\";\")\n",
    "wk12 = pd.read_csv(\"../data/fanduel_data/fanduel2014week12.csv\",delimiter=\";\")\n",
    "wk13 = pd.read_csv(\"../data/fanduel_data/fanduel2014week13.csv\",delimiter=\";\")\n",
    "wk14 = pd.read_csv(\"../data/fanduel_data/fanduel2014week14.csv\",delimiter=\";\")\n",
    "wk15 = pd.read_csv(\"../data/fanduel_data/fanduel2014week15.csv\",delimiter=\";\")\n",
    "wk16 = pd.read_csv(\"../data/fanduel_data/fanduel2014week16.csv\",delimiter=\";\")\n",
    "wk17 = pd.read_csv(\"../data/fanduel_data/fanduel2014week17.csv\",delimiter=\";\")\n",
    "\n",
    "wk15.tail()"
   ]
  },
  {
   "cell_type": "code",
   "execution_count": 48,
   "metadata": {
    "collapsed": false
   },
   "outputs": [
    {
     "data": {
      "text/html": [
       "<div style=\"max-height:1000px;max-width:1500px;overflow:auto;\">\n",
       "<table border=\"1\" class=\"dataframe\">\n",
       "  <thead>\n",
       "    <tr style=\"text-align: right;\">\n",
       "      <th></th>\n",
       "      <th>Week</th>\n",
       "      <th>Year</th>\n",
       "      <th>GID</th>\n",
       "      <th>FD points</th>\n",
       "      <th>FD salary</th>\n",
       "    </tr>\n",
       "  </thead>\n",
       "  <tbody>\n",
       "    <tr>\n",
       "      <th>count</th>\n",
       "      <td>441</td>\n",
       "      <td>441</td>\n",
       "      <td>441.000000</td>\n",
       "      <td>441.000000</td>\n",
       "      <td>441.000000</td>\n",
       "    </tr>\n",
       "    <tr>\n",
       "      <th>mean</th>\n",
       "      <td>1</td>\n",
       "      <td>2014</td>\n",
       "      <td>4102.825397</td>\n",
       "      <td>6.607075</td>\n",
       "      <td>5385.714286</td>\n",
       "    </tr>\n",
       "    <tr>\n",
       "      <th>std</th>\n",
       "      <td>0</td>\n",
       "      <td>0</td>\n",
       "      <td>1524.173844</td>\n",
       "      <td>6.778873</td>\n",
       "      <td>1319.159512</td>\n",
       "    </tr>\n",
       "    <tr>\n",
       "      <th>min</th>\n",
       "      <td>1</td>\n",
       "      <td>2014</td>\n",
       "      <td>1081.000000</td>\n",
       "      <td>-3.000000</td>\n",
       "      <td>0.000000</td>\n",
       "    </tr>\n",
       "    <tr>\n",
       "      <th>25%</th>\n",
       "      <td>1</td>\n",
       "      <td>2014</td>\n",
       "      <td>2869.000000</td>\n",
       "      <td>0.500000</td>\n",
       "      <td>4500.000000</td>\n",
       "    </tr>\n",
       "    <tr>\n",
       "      <th>50%</th>\n",
       "      <td>1</td>\n",
       "      <td>2014</td>\n",
       "      <td>4327.000000</td>\n",
       "      <td>4.600000</td>\n",
       "      <td>4800.000000</td>\n",
       "    </tr>\n",
       "    <tr>\n",
       "      <th>75%</th>\n",
       "      <td>1</td>\n",
       "      <td>2014</td>\n",
       "      <td>5186.000000</td>\n",
       "      <td>11.100000</td>\n",
       "      <td>5800.000000</td>\n",
       "    </tr>\n",
       "    <tr>\n",
       "      <th>max</th>\n",
       "      <td>1</td>\n",
       "      <td>2014</td>\n",
       "      <td>7032.000000</td>\n",
       "      <td>31.900000</td>\n",
       "      <td>10200.000000</td>\n",
       "    </tr>\n",
       "  </tbody>\n",
       "</table>\n",
       "</div>"
      ],
      "text/plain": [
       "       Week  Year          GID   FD points     FD salary\n",
       "count   441   441   441.000000  441.000000    441.000000\n",
       "mean      1  2014  4102.825397    6.607075   5385.714286\n",
       "std       0     0  1524.173844    6.778873   1319.159512\n",
       "min       1  2014  1081.000000   -3.000000      0.000000\n",
       "25%       1  2014  2869.000000    0.500000   4500.000000\n",
       "50%       1  2014  4327.000000    4.600000   4800.000000\n",
       "75%       1  2014  5186.000000   11.100000   5800.000000\n",
       "max       1  2014  7032.000000   31.900000  10200.000000"
      ]
     },
     "execution_count": 48,
     "metadata": {},
     "output_type": "execute_result"
    }
   ],
   "source": [
    "week1.describe()"
   ]
  },
  {
   "cell_type": "code",
   "execution_count": null,
   "metadata": {
    "collapsed": true
   },
   "outputs": [],
   "source": []
  }
 ],
 "metadata": {
  "kernelspec": {
   "display_name": "Python 3",
   "language": "python",
   "name": "python3"
  },
  "language_info": {
   "codemirror_mode": {
    "name": "ipython",
    "version": 3
   },
   "file_extension": ".py",
   "mimetype": "text/x-python",
   "name": "python",
   "nbconvert_exporter": "python",
   "pygments_lexer": "ipython3",
   "version": "3.4.0"
  }
 },
 "nbformat": 4,
 "nbformat_minor": 0
}
